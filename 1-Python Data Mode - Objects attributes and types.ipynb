{
 "cells": [
  {
   "cell_type": "markdown",
   "id": "037d6a2f-be61-431c-9644-fa247caafc47",
   "metadata": {
    "slideshow": {
     "slide_type": "slide"
    },
    "tags": []
   },
   "source": [
    "# Understanding the Python Data Model: Objecs, attributes and types"
   ]
  },
  {
   "cell_type": "markdown",
   "id": "84bf55fe-6982-4c37-a9f2-7eb284485b3d",
   "metadata": {
    "slideshow": {
     "slide_type": "slide"
    },
    "tags": []
   },
   "source": [
    "## Python Objects\n",
    "- _\"Objects are Python’s abstraction for data. All data in a Python program is represented by objects or by relations between objects\"_\n",
    "- Every `object` has:\n",
    "    + **Identity**: it never changes once the object has been created (_~= memory address_)\n",
    "    + **Type**: a reference to another object (its `class` or `type`) which determines the operations that the object supports. In theory, it shouldn't change after creation\n",
    "    + **Value**: usually just a mapping from strings to (counted) references to other objects, but it might be something else (e.g. builtins and slotted classes)\n",
    "    \n",
    "```cpp\n",
    "// Rough approximation in C++\n",
    "using PyRef = std::shared_ptr<PyObject>;\n",
    "   \n",
    "# Python object\n",
    "struct PyObject {\n",
    "    PyRef __class__;                         // Type  \n",
    "    std::map<std::string, PyRef> __dict__;   // Value\n",
    "};\n",
    "```"
   ]
  },
  {
   "cell_type": "code",
   "execution_count": 1,
   "id": "34719637-ab2f-4c5c-9bd7-e846156167df",
   "metadata": {
    "slideshow": {
     "slide_type": "subslide"
    },
    "tags": []
   },
   "outputs": [
    {
     "name": "stdout",
     "output_type": "stream",
     "text": [
      "foo.__class__=<class '__main__.Foo'>, foo.__class__ is Foo=True\n",
      "foo.__dict__={}\n",
      "\n",
      "vars(foo) is foo.__dict__=True\n"
     ]
    }
   ],
   "source": [
    "class Foo:\n",
    "    pass\n",
    "\n",
    "foo = Foo()\n",
    "print(f\"{foo.__class__=}, {foo.__class__ is Foo=}\")\n",
    "print(f\"{foo.__dict__=}\\n\")\n",
    "\n",
    "# The builtin `vars()` is a shortcut to `obj.__dict__`\n",
    "print(f\"{vars(foo) is foo.__dict__=}\")"
   ]
  },
  {
   "cell_type": "markdown",
   "id": "fabebd45",
   "metadata": {
    "slideshow": {
     "slide_type": "slide"
    }
   },
   "source": [
    "- We can add new attributes to the instance at any time\n",
    "    + In the end it's just adding key-value pairs to a hash map\n",
    "- For Python, the _type_ of the object is the object stored in `__class__`\n",
    "    - _Usually_ `type(foo) == foo.__class__`\n",
    "    \n",
    "    - `foo.__class__ == Foo` => `isinstance(foo, Foo) == True`"
   ]
  },
  {
   "cell_type": "code",
   "execution_count": 2,
   "id": "2d686a82",
   "metadata": {
    "slideshow": {
     "slide_type": "fragment"
    }
   },
   "outputs": [
    {
     "name": "stdout",
     "output_type": "stream",
     "text": [
      "There isn't an 'a' in 'foo'!\n",
      "vars(foo)={'a': 10, 'b': -1.0}\n",
      "foo.a=10\n",
      "\n",
      "type(foo)=<class '__main__.Foo'>\n",
      "type(foo) == foo.__class__=True\n",
      "isinstance(foo, Foo)=True\n"
     ]
    }
   ],
   "source": [
    "class Foo:\n",
    "    pass\n",
    "\n",
    "foo = Foo()\n",
    "try:\n",
    "    print(foo.a)\n",
    "except AttributeError:\n",
    "    print(\"There isn't an 'a' in 'foo'!\")\n",
    "\n",
    "foo.__dict__ = {'a': 10, 'b': -1.0}\n",
    "print(f\"{vars(foo)=}\")\n",
    "print(f\"{foo.a=}\\n\")\n",
    "\n",
    "print(f\"{type(foo)=}\")\n",
    "print(f\"{type(foo) == foo.__class__=}\")\n",
    "print(f\"{isinstance(foo, Foo)=}\")"
   ]
  },
  {
   "cell_type": "markdown",
   "id": "de1c2aca",
   "metadata": {
    "slideshow": {
     "slide_type": "slide"
    }
   },
   "source": [
    "### *Note*: `type()` has two different uses in Python\n",
    "\n",
    "1. Return the type of an object\n",
    "    ```python\n",
    "    # Fake pseudo-code\n",
    "    class type():\n",
    "        @overload    \n",
    "        def __call__(object) -> object:\n",
    "            return object.__class__\n",
    "    ```"
   ]
  },
  {
   "cell_type": "markdown",
   "id": "84230111",
   "metadata": {
    "slideshow": {
     "slide_type": "fragment"
    }
   },
   "source": [
    "2. Create new types\n",
    "    ```python\n",
    "    # Fake pseudo-code\n",
    "    class type():\n",
    "        @overload\n",
    "        def __call__(name, bases, dict, **kwds) -> object:\n",
    "            new_class = object()\n",
    "            new_class.__name__ = name\n",
    "            new_class.__mro__ = C3_linearization(*bases, object)\n",
    "            new_class.__dict__ = dict\n",
    "            return new_class\n",
    "    ```"
   ]
  },
  {
   "cell_type": "markdown",
   "id": "7b26d6b7-7ae1-4052-a1dc-998fbe56abed",
   "metadata": {
    "slideshow": {
     "slide_type": "slide"
    }
   },
   "source": [
    "## Object <---> Type Overview\n",
    "- An object's `__dict__` stores the values associated to this instance\n",
    "- A object's `type` (or `class`)is the object stored in `__class__` attribute:\n",
    "    - Contains in its `__dict__` the data shared among multiple instances\n",
    "    - Works as an instance _factory_\n",
    "- Instance methods are just regular functions stored in the class's `__dict__`\n",
    "    + Using the name `self` for the first parameter is just a convention\n",
    "    + When accessing through the instance, the function is partially applied to the instance (_Descriptor Protocol_) \n",
    "        ```python\n",
    "        foo_instance.method ==> functools.partial(type(foo_instance).__dict__['method'], foo_instance)\n",
    "        ```\n",
    "    + When accessing through the class, we get the original function back\n",
    "        ```python\n",
    "        foo_class.method ==> type(foo_instance).__dict__['method']\n",
    "        ```\n",
    "- Since _classes_ are _objects_, we can also add new values to a class at any time (_monkey patching_, usually discouraged)"
   ]
  },
  {
   "cell_type": "code",
   "execution_count": 3,
   "id": "aba338a8",
   "metadata": {
    "slideshow": {
     "slide_type": "subslide"
    }
   },
   "outputs": [
    {
     "name": "stdout",
     "output_type": "stream",
     "text": [
      "Instance 140291838631200 says: 'Boooooo!'\n",
      "Instance 140291838631200 is now silent\n",
      "type(Foo.shutUp)=<class 'function'>, Foo.shutUp is shutUp=True\n"
     ]
    }
   ],
   "source": [
    "class Foo:\n",
    "    def talk(self, text):\n",
    "        print(f\"Instance {id(self)} says: '{text}'\")\n",
    "    \n",
    "foo = Foo()\n",
    "foo.talk(\"Boooooo!\")\n",
    "\n",
    "# Monkey patching `Foo` class...\n",
    "def shutUp(instance):\n",
    "    print(f\"Instance {id(instance)} is now silent\")\n",
    "\n",
    "Foo.shutUp = shutUp  # equivalent to: Foo.__dict__[\"shutUp\"] = shutUp\n",
    "foo.shutUp()\n",
    "\n",
    "print(f\"{type(Foo.shutUp)=}, {Foo.shutUp is shutUp=}\")"
   ]
  },
  {
   "cell_type": "markdown",
   "id": "ac5f5124",
   "metadata": {
    "slideshow": {
     "slide_type": "subslide"
    }
   },
   "source": [
    "## Operators and _dunder_/_magic_ methods\n",
    "- Python parser translates special syntax into function calls:\n",
    "    + An instance's `__class__` defines the _dict_ where magic methods are defined:\n",
    "        + `foo[d]` => `foo.__class__.__getitem__(foo, d)`\n",
    "        + `foo.d` => `foo.__class__.__getattribute__(foo, d)`\n",
    "        + `a + b` => `a.__class__.__add__(a, b)` (or `b.__class__.__radd__(b, a)`)\n",
    "        + `str(c)` => `c.__class__.__str__(c)`\n",
    "    + Builtin objects can also call specific methods on their arguments to further customize behavior:\n",
    "        + `[1,2,3][e]` => `list.__getitem__()` calls `e.__index__()` to get an `int` index\n",
    "        + `float(f)` => `float.__new__()` calls `f.__float__()` to get the actual `float` value\n",
    "    + `type.__call__()` works as a factory of new instances\n",
    "        + `Foo(3) => Foo.__call__(3)`"
   ]
  },
  {
   "cell_type": "markdown",
   "id": "9967cefe",
   "metadata": {
    "slideshow": {
     "slide_type": "slide"
    }
   },
   "source": [
    " # How do `type` and `object` relate to each other?\n",
    " \n",
    "- All objects inherit from `object` (all MROs always end up in `object`)\n",
    "- The type of all types is `type`\n",
    "- _Dunder_ methods are looked up in the previous level of abstraction of the calling instance\n",
    "\n",
    "<img src=\"images/meta-diagram.svg\" width=\"1400\">"
   ]
  },
  {
   "cell_type": "markdown",
   "id": "a0ba250e",
   "metadata": {
    "slideshow": {
     "slide_type": "slide"
    }
   },
   "source": [
    "# How do `type` and `object` relate to each other?\n",
    " \n",
    "- All objects inherit from `object` (all MROs always end up in `object`)\n",
    "- The type of all types is `type`\n",
    "- Failed lookups are also tried in the next _base_ class following the `__mro__` attribute\n",
    "\n",
    "<img src=\"images/mro-diagram.svg\" width=\"1200\">"
   ]
  },
  {
   "cell_type": "code",
   "execution_count": 4,
   "id": "7ee241fe",
   "metadata": {
    "slideshow": {
     "slide_type": "subslide"
    }
   },
   "outputs": [
    {
     "name": "stdout",
     "output_type": "stream",
     "text": [
      "Z.__bases__ = (<class '__main__.K1'>, <class '__main__.K3'>, <class '__main__.K2'>)\n",
      "Z.__mro__ = (<class '__main__.Z'>, <class '__main__.K1'>, <class '__main__.C'>, <class '__main__.K3'>, <class '__main__.A'>, <class '__main__.K2'>, <class '__main__.B'>, <class '__main__.D'>, <class '__main__.E'>, <class '__main__.O'>, <class 'object'>)\n"
     ]
    }
   ],
   "source": [
    "class O: ...\n",
    "\n",
    "class A(O): ...\n",
    "class B(O): ...\n",
    "class C(O): ...\n",
    "class D(O): ...\n",
    "class E(O): ...\n",
    "\n",
    "class K1(C, A, B): ...\n",
    "class K2(B, D, E): ...\n",
    "class K3(A, D): ...\n",
    "\n",
    "class Z(K1, K3, K2): ...\n",
    "    \n",
    "print(f\"{Z.__bases__ = }\\n{Z.__mro__ = }\")"
   ]
  },
  {
   "cell_type": "markdown",
   "id": "439491a5",
   "metadata": {
    "slideshow": {
     "slide_type": "slide"
    }
   },
   "source": [
    "## _types_ as factories in the Python Object Model\n",
    "\n",
    "- A `type` is a Python object with some extra requirements:\n",
    "    + Its `__call__()` method creates new objects whose `__class__` attribute points to itself\n",
    "        + Default `__call__()` implementation calls `__new__()` and then calls `__init__()` (if appropriate)\n",
    "    + Its `__mro__` attribute contains the a tuple of references to other classes\n",
    "        + _Bases_ classes linearized using the C3 linearization algorithm\n",
    "        + The first element in `__mro__` is always itself\n",
    "        + The last element in `__mro__` is always `object`\n",
    "    + Its `__class__` points to another _class_ object: its **metaclass**\n",
    "        + All metaclasses inherit from `type`\n",
    "    + (CPython implementation detail: a class `__dict__` is a non-writable `MappingProxyType` instead of an actual `dict`)"
   ]
  },
  {
   "cell_type": "code",
   "execution_count": 5,
   "id": "20c47ef0",
   "metadata": {
    "slideshow": {
     "slide_type": "slide"
    }
   },
   "outputs": [
    {
     "name": "stdout",
     "output_type": "stream",
     "text": [
      "Creating Foo instance...\n",
      "<FooMeta>: Foo.__call__(args=(1, 2), kwargs={}\n",
      "Foo.__new__(args=(1, 2)\n",
      "Foo.__init__(a=1, b=2\n",
      "\n",
      "vars(foo)={'a': 1, 'b': 2}\n"
     ]
    }
   ],
   "source": [
    "class FooMeta(type):\n",
    "    def __call__(cls, *args, **kwargs):\n",
    "        print(f\"<{cls.__class__.__name__}>: {cls.__name__}.__call__({args=}, {kwargs=}\")\n",
    "        return type.__call__(cls, *args, **kwargs)\n",
    "\n",
    "class Foo(metaclass=FooMeta):\n",
    "    def __new__(cls, *args):\n",
    "        print(f\"{cls.__name__}.__new__({args=}\")\n",
    "        return object.__new__(cls)\n",
    "\n",
    "    def __init__(self, a, b):\n",
    "        print(f\"{self.__class__.__name__}.__init__({a=}, {b=}\")\n",
    "        self.a = a\n",
    "        self.b = b\n",
    "\n",
    "print(\"Creating Foo instance...\")\n",
    "foo = Foo(1, 2)\n",
    "print(f\"\\n{vars(foo)=}\")"
   ]
  },
  {
   "cell_type": "markdown",
   "id": "25991bc1",
   "metadata": {
    "slideshow": {
     "slide_type": "slide"
    }
   },
   "source": [
    "# _Object Oriented Programming_ in Python\n",
    "\n",
    "- Object Oriented Programming in Python is just the _default behavior_\n",
    "    + Dynamic dispatch: _descriptor protocol_\n",
    "    + Inheritance: _MRO_ lookup\n",
    "- `object.__getattribute__()` implements the bulk of the object model\n",
    "    - Looking for attributes not only in the instance _vars_ but also in the `__class__`\n",
    "    - Looking for attributes not only in the direct `__class__`, but also in the other base classes (`__mro__`)\n",
    "        \n",
    "        + _MRO_: Method Resolution Order using [C3 linearization](https://en.wikipedia.org/wiki/C3_linearization) of bases\n",
    "\n",
    "            \n",
    "- Basically, the object model is implemented in the `object()` and `type()` methods"
   ]
  },
  {
   "cell_type": "markdown",
   "id": "ed72d897",
   "metadata": {
    "slideshow": {
     "slide_type": "slide"
    }
   },
   "source": [
    "## `object.__getattribute__()`: base implementation of the Python Data Model\n",
    "\n",
    "- Intuition for `object.__getattribute__(instance, attr_name)`:\n",
    "    1. Look for `attr_name` in `instance.__dict__`\n",
    "    2. If it's not there, look for `attr_name` in `instance.__class__.__dict__`\n",
    "    3. If it's not there, call `instance.__class__.__dict__['__getattr__'](self, attr_name)`\n",
    "- Note that `__getattribute__()` and `__getattr__()` are very different:\n",
    "    - `__getattribute__()` is *always* called for every attribute access (very easy to create infinite recursion calls)\n",
    "    - `__getattr__()` is only called if `attr_name` hasn't been found through a regular lookup\n",
    "- The previous attribute lookup is a simplification, the [actual lookup](./images/object-attribute-lookup-v3.png) is more complicated and relies on the [_descriptor protocol_](https://docs.python.org/3/howto/descriptor.html)\n"
   ]
  },
  {
   "cell_type": "markdown",
   "id": "d4d17960-51c7-4f12-9c95-1a4d2a4a5eb1",
   "metadata": {
    "slideshow": {
     "slide_type": "slide"
    },
    "tags": []
   },
   "source": [
    "# Descriptor Protocol\n",
    "\n",
    "+ `Descriptors` provide a hook to customize attribute lookup on an attribute basis\n",
    "+ A descriptor is any object that defines\n",
    "    + `def __get__(self, obj, objtype=None)`\n",
    "    + `def __set__(self, obj, value)` (optional)\n",
    "    + `def __delete__(self, obj, value)` (optional)\n",
    "    + More recently `def __set_name__(owner, name)` method has been added for cases where a descriptor needs to know the name of class variable it was assigned\n",
    "+ Descriptors **only** work when used as class variables (e.g. _property_)\n",
    "+ _Data descriptors_ only define `__set__()` or `__delete__()`\n",
    "+ _Non-data descriptors_ only define `__get__()`\n"
   ]
  },
  {
   "cell_type": "code",
   "execution_count": 1,
   "id": "ee20cf1c",
   "metadata": {
    "slideshow": {
     "slide_type": "subslide"
    }
   },
   "outputs": [
    {
     "data": {
      "text/plain": [
       "True"
      ]
     },
     "execution_count": 1,
     "metadata": {},
     "output_type": "execute_result"
    }
   ],
   "source": [
    "class PropertyDescriptor:\n",
    "    def __set_name__(self, owner, name):\n",
    "        self.private_name = '_' + name\n",
    "\n",
    "    def __get__(self, obj, objtype=None):\n",
    "        value = getattr(obj, self.private_name)\n",
    "        return value or 42\n",
    "\n",
    "    def __set__(self, obj, value):\n",
    "        setattr(obj, self.private_name, value)\n",
    "\n",
    "class Owner:\n",
    "    my_data = PropertyDescriptor()\n",
    "\n",
    "    def __init__(self, data):\n",
    "        self._my_data = data\n",
    "\n",
    "Owner().my_data == 42\n"
   ]
  },
  {
   "cell_type": "markdown",
   "id": "6b1808d7",
   "metadata": {
    "slideshow": {
     "slide_type": "slide"
    }
   },
   "source": [
    "## `object.__getattribute__()`\n",
    "\n",
    "- Let's look now at the actual lookup.\n",
    "    - Diagram [actual lookup](./images/object-attribute-lookup-v3.png)\n"
   ]
  },
  {
   "cell_type": "code",
   "execution_count": 2,
   "id": "b59381ad",
   "metadata": {
    "slideshow": {
     "slide_type": "fragment"
    }
   },
   "outputs": [],
   "source": [
    "def type_getattribute(cls, name, default):\n",
    "    \"Emulate _PyType_Lookup() in Objects/typeobject.c\"\n",
    "    for base in cls.__mro__:\n",
    "        if name in vars(base):\n",
    "            return vars(base)[name]\n",
    "    return default\n",
    "\n",
    "def object_getattribute(obj, name):\n",
    "    \"Emulate PyObject_GenericGetAttr() in Objects/object.c\"\n",
    "    null = object()\n",
    "    objtype = type(obj)\n",
    "    cls_var = type_getattribute(objtype, name, null)\n",
    "    descr_get = getattr(type(cls_var), '__get__', null)\n",
    "    if descr_get is not null:\n",
    "        if (hasattr(type(cls_var), '__set__')\n",
    "            or hasattr(type(cls_var), '__delete__')):\n",
    "            return descr_get(cls_var, obj, objtype)     # data descriptor:   . x =>  x.__get__(a, type(a))\n",
    "    if hasattr(obj, '__dict__') and name in vars(obj):\n",
    "        return vars(obj)[name]                          # instance variable\n",
    "    if descr_get is not null:\n",
    "        return descr_get(cls_var, obj, objtype)         # non-data descriptor:  a.x =>  x.__get__(a, type(a))\n",
    "    if cls_var is not null:\n",
    "        return cls_var                                  # class variable\n",
    "    if hasattr(objtype, '__getattr__'):\n",
    "        return objtype.__getattr__(obj, name)           # call __getattr__ if it is defined in the class\n",
    "    raise AttributeError(name)"
   ]
  },
  {
   "cell_type": "markdown",
   "id": "d6214aa8",
   "metadata": {
    "slideshow": {
     "slide_type": "slide"
    }
   },
   "source": [
    "# Functions implement the descriptor protocol\n",
    "\n",
    "- Functions implement the descriptor protocol\n",
    "```python    \n",
    "class Function:\n",
    "    ...\n",
    "    def __get__(self, obj, objtype=None):\n",
    "        return MethodType(self, obj) if obj is not None else self\n",
    "\n",
    "class MethodType:\n",
    "    def __init__(self, func, obj):\n",
    "        self.func = func\n",
    "        self.obj = obj\n",
    "\n",
    "    def __call__(self, *args, **kwargs):\n",
    "        return self.func(self.obj, *args, **kwargs)\n",
    "```\n",
    "- Using the descriptor protocol also works to bind functions to instances as methods\n"
   ]
  },
  {
   "cell_type": "code",
   "execution_count": 30,
   "id": "a5073acc",
   "metadata": {
    "slideshow": {
     "slide_type": "subslide"
    }
   },
   "outputs": [
    {
     "name": "stdout",
     "output_type": "stream",
     "text": [
      "f.__get__ = <method-wrapper '__get__' of function object at 0x7fde640d5ea0>\n",
      "f(1) = \"a = 1 (type(a) = <class 'int'>)\"\n",
      "\n",
      "a.g = <bound method f of <__main__.A object at 0x7fde6454ce20>>\n",
      "f.__get__(a) = <bound method f of <__main__.A object at 0x7fde6454ce20>>\n",
      "\n",
      "A.g = <function f at 0x7fde640d5ea0>\n",
      "f.__get__(None, A) = <function f at 0x7fde640d5ea0>\n"
     ]
    }
   ],
   "source": [
    "def f(a):\n",
    "    return f\"{a = } ({type(a) = })\"\n",
    "\n",
    "print(f\"{f.__get__ = }\")\n",
    "print(f\"{f(1) = }\\n\")\n",
    "\n",
    "class A:\n",
    "    g = f\n",
    "\n",
    "a = A()\n",
    "\n",
    "print(f\"{a.g = }\")\n",
    "print(f\"{f.__get__(a) = }\\n\")\n",
    "\n",
    "print(f\"{A.g = }\")\n",
    "print(f\"{f.__get__(None, A) = }\")\n",
    "\n"
   ]
  },
  {
   "cell_type": "markdown",
   "id": "74cb70d1",
   "metadata": {
    "slideshow": {
     "slide_type": "slide"
    }
   },
   "source": [
    "# What is `super()`?\n",
    "\n",
    "- `super(type, object_or_type=None)` is just a proxy object to lookup for attributes in the `__mro__` attribute of classes\n",
    "    + The first argument sets the predecessor of the starting position in the chain\n",
    "    + The second argument (non-optional in practice) sets the object to extract the `__mro__` attribute from\n",
    "- It can be used When used anywhere, but when used **inside a method of a class** the interpreter adds automatic values for both arguments if they are missing\n",
    "```python\n",
    "    class Foo(Bar, A, B):\n",
    "        def __init__(self, *args):\n",
    "            super().__init__(*args)  # Transformed into:  super(Foo, self).__init__(*args)\n",
    "            \n",
    "```"
   ]
  },
  {
   "cell_type": "code",
   "execution_count": 33,
   "id": "d38f439f",
   "metadata": {
    "slideshow": {
     "slide_type": "subslide"
    }
   },
   "outputs": [
    {
     "name": "stdout",
     "output_type": "stream",
     "text": [
      "(<class '__main__.C'>, <class '__main__.B'>, <class '__main__.A'>, <class 'object'>)\n",
      "c.prop = 'This is an C instance'\n",
      "c.from_instance() = 'This is an B instance'\n",
      "\n",
      "super(C, c).prop = 'This is an B instance'\n",
      "super(B, c).prop = 'This is an A instance'\n",
      "c.class_method() = 'Class is C'\n",
      "super(B, C).class_method() = 'Class is C'\n"
     ]
    }
   ],
   "source": [
    "class A:\n",
    "    @property\n",
    "    def prop(self):\n",
    "        return \"This is an A instance\"\n",
    "\n",
    "    @classmethod\n",
    "    def class_method(cls):\n",
    "        return f\"Class is {cls.__name__}\"\n",
    "\n",
    "\n",
    "class B(A):\n",
    "    @property\n",
    "    def prop(self):\n",
    "        return \"This is an B instance\"\n",
    "    \n",
    "class C(B):\n",
    "    @property\n",
    "    def prop(self):\n",
    "        return \"This is an C instance\"\n",
    "    \n",
    "    def from_instance(self):\n",
    "        return super().prop\n",
    "\n",
    "c = C()    \n",
    "print(C.__mro__)\n",
    "print(f\"{c.prop = }\")\n",
    "print(f\"{c.from_instance() = }\\n\")\n",
    "print(f\"{super(C, c).prop = }\")\n",
    "print(f\"{super(B, c).prop = }\")\n",
    "\n",
    "print(f\"{c.class_method() = }\")\n",
    "print(f\"{super(B, C).class_method() = }\")"
   ]
  },
  {
   "cell_type": "markdown",
   "id": "b73e9535",
   "metadata": {
    "slideshow": {
     "slide_type": "slide"
    }
   },
   "source": [
    "# Summary\n",
    "- Python syntax is just syntatic sugar translated into function calls\n",
    "- Objects point to its class where all the definitions are\n",
    "- The type of a class is a metaclass\n",
    "- Everything inherits from `object`\n",
    "- Every metaclass is a `type`\n",
    "- Base classes are looked up based on the MRO\n",
    "- Data descriptors have priority over instance attributes, and attributes over non-data descriptors\n"
   ]
  }
 ],
 "metadata": {
  "celltoolbar": "Slideshow",
  "kernelspec": {
   "display_name": "Python 3 (ipykernel)",
   "language": "python",
   "name": "python3"
  },
  "language_info": {
   "codemirror_mode": {
    "name": "ipython",
    "version": 3
   },
   "file_extension": ".py",
   "mimetype": "text/x-python",
   "name": "python",
   "nbconvert_exporter": "python",
   "pygments_lexer": "ipython3",
   "version": "3.10.6"
  }
 },
 "nbformat": 4,
 "nbformat_minor": 5
}
