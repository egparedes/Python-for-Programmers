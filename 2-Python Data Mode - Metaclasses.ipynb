{
 "cells": [
  {
   "cell_type": "markdown",
   "id": "037d6a2f-be61-431c-9644-fa247caafc47",
   "metadata": {
    "slideshow": {
     "slide_type": "slide"
    },
    "tags": []
   },
   "source": [
    "# Understanding the Python Data Model: Metaclasses and ABCs"
   ]
  },
  {
   "cell_type": "markdown",
   "id": "84bf55fe-6982-4c37-a9f2-7eb284485b3d",
   "metadata": {
    "slideshow": {
     "slide_type": "slide"
    },
    "tags": []
   },
   "source": [
    "## Python Objects\n",
    "- _\"Objects are Python’s abstraction for data. All data in a Python program is represented by objects or by relations between objects\"_\n",
    "- Every `object` has:\n",
    "    + **Identity**: it never changes once the object has been created (_~= memory address_)\n",
    "    + **Type**: a reference to another object (its `class` or `type`) which determines the operations that the object supports. In theory, it shouldn't change after creation\n",
    "    + **Value**: \n",
    "        + _usually_ just a mapping from strings to counted object references (`__dict__`). It supports definition of new attributes at any time\n",
    "        + _but_ some classes are more restricted (e.g. slotted classes, builtins and types defined in CPython extensions)\n",
    "- The _type_ of an object is another object referenced in the `__class__` attribute\n",
    "    - _Usually_ `type(foo) == foo.__class__`    "
   ]
  },
  {
   "cell_type": "markdown",
   "id": "9b41449c",
   "metadata": {
    "slideshow": {
     "slide_type": "slide"
    }
   },
   "source": [
    "# Python Classes\n",
    "\n",
    "- A Python class is just another Python object:\n",
    "    + It stores shared definitions for all instances (dunder and regular methods, class variables)\n",
    "    + It works as a factory of new instances:\n",
    "        + Its `__call__()` method creates new objects whose `__class__` attribute points back to the class\n",
    "        + Default `type.__call__(cls, ...)` implementation calls `cls.__new__(...)` then calls `cls.__init__(...)` (if appropriate)\n",
    "- Python syntax is translated into _dunder_ function calls looked up in the `instance.__class__` dict (previous level of abstraction of the calling instance)\n",
    "    + `foo + bar` => `foo.__class__.__add__(foo, bar)`\n",
    "\n",
    "- The class of a class, a _metaclass_, is also a class (and therefore it essentially follows the same pattern)"
   ]
  },
  {
   "cell_type": "markdown",
   "id": "9967cefe",
   "metadata": {
    "slideshow": {
     "slide_type": "slide"
    }
   },
   "source": [
    " ## Python Data Model\n",
    "\n",
    "<img src=\"images/meta-diagram.svg\" width=\"1400\">\n",
    "\n",
    "**Note:** _\"The type of all types is `type`\"_  is not _strictly_ true. The opposite case is only useful for very narrow use cases\n"
   ]
  },
  {
   "cell_type": "markdown",
   "id": "74cc6c02",
   "metadata": {
    "slideshow": {
     "slide_type": "slide"
    }
   },
   "source": [
    "## Metaclasses: Implementing custom class behaviour\n",
    "\n",
    "- Example: we want to use `A + B` as alternative syntax for `A | B`:\n",
    "    ```python\n",
    "    A + B == A | B == Union[A, B]\n",
    "    ```\n",
    "- Where should be defined the `__add__()` method?\n",
    "    ```python\n",
    "    class A:\n",
    "        def __add__(self, other):\n",
    "            ...\n",
    "    ```\n",
    "    - **NO!!** This works for `A` instances: `a = A(); b = B(); c = a + b`\n",
    "    - We need to use a custom metaclass!!\n",
    "    "
   ]
  },
  {
   "cell_type": "code",
   "execution_count": 1,
   "id": "e8321c0a",
   "metadata": {
    "slideshow": {
     "slide_type": "subslide"
    }
   },
   "outputs": [
    {
     "name": "stdout",
     "output_type": "stream",
     "text": [
      "type(A) = <class '__main__.CustomMeta'>, type(B) = <class '__main__.CustomMeta'>\n",
      "A + B = typing.Union[__main__.A, __main__.B]\n",
      "\n",
      "Creating A instances...\n",
      "<__main__.A object at 0x7f6b00069d80>\n"
     ]
    }
   ],
   "source": [
    "from typing import Union\n",
    "\n",
    "class CustomMeta(type):\n",
    "    def __add__(cls, other):\n",
    "        return Union[cls, other]\n",
    "\n",
    "# 'metaclass' keyword sets the metaclass of a new class\n",
    "class A(metaclass=CustomMeta):\n",
    "    pass\n",
    "\n",
    "# Inheriting from classes with custom metaclass\n",
    "# also sets the metaclass of the new class\n",
    "class B(A):\n",
    "    pass\n",
    "\n",
    "print(f\"{type(A) = }, {type(B) = }\")\n",
    "\n",
    "print(f\"{A + B = }\")\n",
    "\n",
    "print(\"\\nCreating A instances...\")\n",
    "a = A()\n",
    "b = B()\n",
    "print(a)\n",
    "# This should fail:\n",
    "#print(a + b)"
   ]
  },
  {
   "cell_type": "markdown",
   "id": "8d1bf14d",
   "metadata": {
    "slideshow": {
     "slide_type": "subslide"
    }
   },
   "source": [
    "## Implementing custom class behaviour with `type`\n",
    "- The standard `type` metaclass provides some hooks to customize the class behavior directly in the class, to avoid excesive use of small metaclasses:\n",
    "    - _(auto-classmethod)_ `object.__init_subclass__(cls, **kwargs)`: Called whenever the containing `class` is subclassed. `cls` is then the new subclass.\n"
   ]
  },
  {
   "cell_type": "code",
   "execution_count": 2,
   "id": "b1bbfdb9",
   "metadata": {
    "slideshow": {
     "slide_type": "fragment"
    }
   },
   "outputs": [
    {
     "name": "stdout",
     "output_type": "stream",
     "text": [
      "__init_subclass__(<class '__main__.Child1'>, {})\n",
      "__init_subclass__(<class '__main__.Child2'>, {})\n",
      "\n",
      "Child1.FOO = 42, Child2.FOO = 'Default!!'\n"
     ]
    }
   ],
   "source": [
    "class Parent:\n",
    "    def __init_subclass__(cls, /, **kwargs):\n",
    "        print(f\"__init_subclass__({cls}, {kwargs})\")\n",
    "        super().__init_subclass__(**kwargs)\n",
    "        if \"FOO\" not in cls.__dict__:\n",
    "            cls.FOO = \"Default!!\"\n",
    "        \n",
    "class Child1(Parent):\n",
    "    FOO = 42\n",
    "\n",
    "class Child2(Child1):\n",
    "    pass\n",
    "\n",
    "print(f\"\\n{Child1.FOO = }, {Child2.FOO = }\")"
   ]
  },
  {
   "cell_type": "markdown",
   "id": "259e2dac",
   "metadata": {
    "slideshow": {
     "slide_type": "subslide"
    }
   },
   "source": [
    "## Implementing custom class behaviour with `type`\n",
    "- `type` metaclass customization hooks:\n",
    "    - _(auto-classmethod)_ `object.__class_getitem__(cls, key)`: Return an object representing the specialization of a generic class by type arguments found in key.\n",
    "        + It has lower priority than `__getitem__` in the metaclass\n",
    "        + It is used mostly for run-time implementation of `Generic` typing annotations"
   ]
  },
  {
   "cell_type": "code",
   "execution_count": 3,
   "id": "6f23dd04",
   "metadata": {
    "slideshow": {
     "slide_type": "fragment"
    }
   },
   "outputs": [
    {
     "name": "stdout",
     "output_type": "stream",
     "text": [
      "Parent[0:-1] = [<class '__main__.Child0'>, <class '__main__.Child1'>]\n",
      "\n",
      "Parent['Child2'] = [<class '__main__.Child2'>]\n"
     ]
    }
   ],
   "source": [
    "class Parent:\n",
    "    def __class_getitem__(cls, key):\n",
    "        if isinstance(key, str):\n",
    "            return [sub for sub in cls.__subclasses__() if sub.__name__ == key]\n",
    "        else:\n",
    "            return cls.__subclasses__()[key]\n",
    "        \n",
    "class Child0(Parent): ...\n",
    "class Child1(Parent): ...\n",
    "class Child2(Parent): ...\n",
    "\n",
    "print(f\"{Parent[0:-1] = }\")\n",
    "\n",
    "print(f\"\\n{Parent['Child2'] = }\")"
   ]
  },
  {
   "cell_type": "markdown",
   "id": "55f8c21b",
   "metadata": {
    "slideshow": {
     "slide_type": "slide"
    }
   },
   "source": [
    "## Metaclasses: Implementing custom class behaviour\n",
    "- Using metaclasses is also possible to override class-related operators like `isinstance()` and `issubclass()`\n",
    "    + `class.__instancecheck__(cls, instance)`: Return `true` if instance should be considered a (direct or indirect) instance of `class`.\n",
    "    + For performance reasons, it is only called if `type(instance) != cls`\n"
   ]
  },
  {
   "cell_type": "code",
   "execution_count": 4,
   "id": "0ce2acc3",
   "metadata": {
    "slideshow": {
     "slide_type": "subslide"
    }
   },
   "outputs": [
    {
     "name": "stdout",
     "output_type": "stream",
     "text": [
      "isinstance(HappyClass(), HappyClass) = True\n",
      "__instancecheck__(<class '__main__.HappyClass'>, namespace(happy=True))\n",
      "isinstance(a, HappyClass) = True\n",
      "__instancecheck__(<class '__main__.HappyClass'>, namespace(value=42))\n",
      "isinstance(b, HappyClass) = False\n",
      "__instancecheck__(<class '__main__.HappyClass'>, Foo(happy=True))\n",
      "isinstance(foo, HappyClass) = True\n"
     ]
    }
   ],
   "source": [
    "import dataclasses, types\n",
    "\n",
    "class CustomMeta(type):\n",
    "    def __instancecheck__(cls, instance):\n",
    "        print(f\"__instancecheck__({cls}, {instance})\")\n",
    "        if hasattr(cls, \"DISCRIMINATING_ATTR\"):\n",
    "            assert isinstance(cls.DISCRIMINATING_ATTR, str)\n",
    "            return getattr(instance, cls.DISCRIMINATING_ATTR, False) is True\n",
    "        return False\n",
    "\n",
    "class HappyClass(metaclass=CustomMeta):\n",
    "    DISCRIMINATING_ATTR = \"happy\"\n",
    "\n",
    "a = types.SimpleNamespace(happy=True)\n",
    "b = types.SimpleNamespace(value=42)\n",
    "\n",
    "@dataclasses.dataclass\n",
    "class Foo:\n",
    "    happy: bool\n",
    "\n",
    "foo = Foo(True)\n",
    "\n",
    "print(f\"{isinstance(HappyClass(), HappyClass) = }\")  # Skip custom __instancecheck__\n",
    "print(f\"{isinstance(a, HappyClass) = }\")\n",
    "print(f\"{isinstance(b, HappyClass) = }\")\n",
    "print(f\"{isinstance(foo, HappyClass) = }\")\n"
   ]
  },
  {
   "cell_type": "markdown",
   "id": "1de600da",
   "metadata": {
    "slideshow": {
     "slide_type": "slide"
    }
   },
   "source": [
    "## Metaclasses: Implementing custom class behaviour\n",
    "- Using metaclasses is also possible to override class-related operators like `isinstance()` and `issubclass()`\n",
    "    + `class.__subclasscheck__(cls, subclass)`: Return `true` if `subclass` should be considered a (direct or indirect) `subclass` of `class`.\n"
   ]
  },
  {
   "cell_type": "code",
   "execution_count": 5,
   "id": "2c31dc93",
   "metadata": {
    "slideshow": {
     "slide_type": "subslide"
    }
   },
   "outputs": [
    {
     "name": "stdout",
     "output_type": "stream",
     "text": [
      "__subclasscheck__(<class '__main__.Foo'>, <class '__main__.Bar'>)\n",
      "issubclass(Bar, Foo) = False\n",
      "__subclasscheck__(<class '__main__.Foo'>, <class '__main__.FooSomething'>)\n",
      "issubclass(FooSomething, Foo) = True\n",
      "__subclasscheck__(<class '__main__.Foo'>, <class '__main__.NotFooSomething'>)\n",
      "issubclass(NotFooSomething, Foo) = False\n"
     ]
    }
   ],
   "source": [
    "class CustomMeta(type):\n",
    "    def __subclasscheck__(cls, subclass):\n",
    "        print(f\"__subclasscheck__({cls}, {subclass})\")\n",
    "        name = cls.__name__.split(\".\")[-1]\n",
    "        sub_name = subclass.__name__.split(\".\")[-1]\n",
    "        return sub_name.startswith(f\"{name}\") and sub_name[len(name)].isupper()\n",
    "\n",
    "class Foo(metaclass=CustomMeta):\n",
    "    pass\n",
    "\n",
    "class Bar(Foo):\n",
    "    pass\n",
    "\n",
    "class FooSomething:\n",
    "    pass\n",
    "\n",
    "class NotFooSomething:\n",
    "    pass\n",
    "\n",
    "print(f\"{issubclass(Bar, Foo) = }\")\n",
    "print(f\"{issubclass(FooSomething, Foo) = }\")\n",
    "print(f\"{issubclass(NotFooSomething, Foo) = }\")"
   ]
  },
  {
   "cell_type": "markdown",
   "id": "439491a5",
   "metadata": {
    "slideshow": {
     "slide_type": "slide"
    }
   },
   "source": [
    "## Metaclasses: customizing class creation    \n",
    "- Customization can happen at multiple points\n",
    "- For subclasses of `type`, the simplest way is to use the same mechanism available for customization of instances, since classes are just instances of the metaclasss:\n",
    "    - `__new__()` -> before the _instance_ (a new class in this case) is created \n",
    "    - `__init__()` -> after the instance has been created (weird usage in this case)"
   ]
  },
  {
   "cell_type": "code",
   "execution_count": 6,
   "id": "e2a86933",
   "metadata": {
    "slideshow": {
     "slide_type": "subslide"
    }
   },
   "outputs": [
    {
     "name": "stdout",
     "output_type": "stream",
     "text": [
      "MyType.__new__((<class '__main__.MyMeta'>, 'A', (), {'__module__': '__main__', '__qualname__': 'A', 'VALUE': 42}), {})\n",
      "\n",
      "MyType.__init__(<class '__main__.A'>, ('A', (), {'__module__': '__main__', '__qualname__': 'A', 'VALUE': 42}), {})\n"
     ]
    },
    {
     "data": {
      "text/plain": [
       "abc.ABCMeta"
      ]
     },
     "execution_count": 6,
     "metadata": {},
     "output_type": "execute_result"
    }
   ],
   "source": [
    "import abc\n",
    "\n",
    "class MyMeta(type):\n",
    "    def __new__(*args, **kwargs):\n",
    "        print(f\"MyType.__new__({args}, {kwargs})\")\n",
    "        return type.__new__(*args, **kwargs)\n",
    "    \n",
    "    def __init__(cls, *args, **kwargs):\n",
    "        print(f\"\\nMyType.__init__({cls}, {args}, {kwargs})\")\n",
    "        cls.VALUE = 0\n",
    "        return None\n",
    "    \n",
    "\n",
    "class A(metaclass=MyMeta):\n",
    "    VALUE = 42\n",
    "\n",
    "class ABC(metaclass=abc.ABCMeta):\n",
    "    pass\n",
    "    \n",
    "class B(abc.ABC): pass\n",
    "    \n",
    "B.__class__\n",
    "\n",
    "#print(f\"\\n{A.VALUE = }\")"
   ]
  },
  {
   "cell_type": "markdown",
   "id": "940686c7",
   "metadata": {
    "slideshow": {
     "slide_type": "slide"
    }
   },
   "source": [
    "## Metaclasses: customizing class creation\n",
    "- `class` keyword is just syntatic sugar to call the metaclass\n",
    "    ```python\n",
    "    class MyType(A, B, C, metaclass=MyMeta, kwarg2=33):\n",
    "        VALUE = 42        \n",
    "        def x(self, b): return ...\n",
    "    ```\n",
    "    is roughly equivalent to ([3.3.3.1. Metaclasses](https://docs.python.org/3/reference/datamodel.html#metaclasses)):\n",
    "    ```python\n",
    "    # MRO entries are resolved\n",
    "    bases = solve_mro_entries(A, B, C)  # For regular bases == (A, B, C)\n",
    "    # the proper metaclass (the most derived `type` subclass) is selected\n",
    "    kwargs = dict(metaclass=MyMeta, kwarg2=33)\n",
    "    metaclass = kwargs.pop(\"metaclass\", type)\n",
    "    # the class namespace is prepared\n",
    "    body_ns = metaclass.__prepare__(\"MyType\", bases, **kwargs) # == dict()\n",
    "    # the class body is executed\n",
    "    exec(SOURCE_LINES[1:4], globals(), body_ns)\n",
    "    # the class object is created\n",
    "    new_class = metaclass(\"MyType\", bases, body_ns, **kwargs)\n",
    "    ```\n",
    "    "
   ]
  },
  {
   "cell_type": "code",
   "execution_count": 8,
   "id": "20c47ef0",
   "metadata": {
    "slideshow": {
     "slide_type": "slide"
    }
   },
   "outputs": [
    {
     "name": "stdout",
     "output_type": "stream",
     "text": [
      "mappingproxy({'__dict__': <attribute '__dict__' of 'Foo' objects>,\n",
      "              '__doc__': None,\n",
      "              '__filtered__': {'bar': <function Foo.bar at 0x7f6b00070dc0>,\n",
      "                               'foo': <function Foo.foo at 0x7f6b00070550>},\n",
      "              '__module__': '__main__',\n",
      "              '__weakref__': <attribute '__weakref__' of 'Foo' objects>,\n",
      "              'something': <function Foo.something at 0x7f6b00071b40>})\n"
     ]
    }
   ],
   "source": [
    "import pprint\n",
    "\n",
    "class FooMeta(type):\n",
    "    def __new__(mcls, name, bases, ns, **kwargs):\n",
    "        new_ns = {}\n",
    "        filtered = {}\n",
    "        for key, value in ns.items():\n",
    "            if key in [\"foo\", \"bar\"]:\n",
    "                filtered[key] = value\n",
    "            else:\n",
    "                new_ns[key] = value\n",
    "        new_ns[\"__filtered__\"] = filtered\n",
    "        return type(name, bases, new_ns, **kwargs)\n",
    "\n",
    "class Foo(metaclass=FooMeta):\n",
    "    def foo(self):\n",
    "        return 42\n",
    "    \n",
    "    def bar(self):\n",
    "        return 42\n",
    "    \n",
    "    def something(self):\n",
    "        return 42\n",
    "\n",
    "pprint.pprint(vars(Foo))"
   ]
  },
  {
   "cell_type": "markdown",
   "id": "d8cb666a",
   "metadata": {
    "slideshow": {
     "slide_type": "slide"
    }
   },
   "source": [
    "## abc — Abstract Base Classes module\n",
    "\n",
    "- A module of the standard library providing the infrastructure for defining abstract base classes (ABCs) ([PEP 3119](https://peps.python.org/pep-3119))\n",
    "- Used in other modules of the standard library\n",
    "    - [`collection.abc`](https://docs.python.org/3/library/collections.abc.html) module (_Abstract Base Classes for Containers_) (motivating use case discussed in the previous PEP)\n",
    "    - [`numbers`](https://docs.python.org/3/library/numbers.html) module (_Numeric abstract base classes_) ([PEP 3141](https://peps.python.org/pep-3141))\n",
    "        + Number :> Complex :> Real :> Rational :> Integral\n",
    "- Contents:\n",
    "    - `@abstractmethod` decorator to flag methods as _abstract_\n",
    "    - `ABCMeta` metaclass (and `ABC` class shortcut to inherit from):\n",
    "    "
   ]
  },
  {
   "cell_type": "markdown",
   "id": "02c40209",
   "metadata": {
    "slideshow": {
     "slide_type": "slide"
    }
   },
   "source": [
    "## Abstract Base Classes and Abstract Methods\n",
    "\n",
    "- Methods tagged as `abc.abstractmethod()` **must** be defined in subclasses\n",
    "    - If an implementation is not provided, the subclass remains _abstract_ and therefore _non-instantiable_\n",
    "    - The goal is to detect classes with partial implementation of interfaces even if the missing methods are not called\n",
    "\n",
    "- `abc.abstractmethod()` can be combined with other common method decorators (`classmethod`, `staticmethod` `property`)"
   ]
  },
  {
   "cell_type": "code",
   "execution_count": 9,
   "id": "c60387f1-a4aa-47b5-87d3-b2c03dcf5b23",
   "metadata": {
    "slideshow": {
     "slide_type": "subslide"
    }
   },
   "outputs": [
    {
     "name": "stdout",
     "output_type": "stream",
     "text": [
      "MyClass = <class '__main__.MyClass'>\n",
      "MyClass() = <__main__.MyClass object at 0x7f6b0006b670>\n",
      "\n",
      "MyClass2 = <class '__main__.MyClass2'>\n"
     ]
    },
    {
     "ename": "TypeError",
     "evalue": "Can't instantiate abstract class MyClass2 with abstract method foo",
     "output_type": "error",
     "traceback": [
      "\u001b[0;31m---------------------------------------------------------------------------\u001b[0m",
      "\u001b[0;31mTypeError\u001b[0m                                 Traceback (most recent call last)",
      "Cell \u001b[0;32mIn[9], line 19\u001b[0m\n\u001b[1;32m     16\u001b[0m     \u001b[38;5;28;01mpass\u001b[39;00m\n\u001b[1;32m     18\u001b[0m \u001b[38;5;28mprint\u001b[39m(\u001b[38;5;124mf\u001b[39m\u001b[38;5;124m\"\u001b[39m\u001b[38;5;132;01m{\u001b[39;00mMyClass2\u001b[38;5;250m \u001b[39m\u001b[38;5;132;01m= }\u001b[39;00m\u001b[38;5;124m\"\u001b[39m)\n\u001b[0;32m---> 19\u001b[0m \u001b[38;5;28mprint\u001b[39m(\u001b[38;5;124mf\u001b[39m\u001b[38;5;124m\"\u001b[39m\u001b[38;5;132;01m{\u001b[39;00m\u001b[43mMyClass2\u001b[49m\u001b[43m(\u001b[49m\u001b[43m)\u001b[49m\u001b[38;5;250m \u001b[39m\u001b[38;5;132;01m= }\u001b[39;00m\u001b[38;5;124m\"\u001b[39m)\n",
      "\u001b[0;31mTypeError\u001b[0m: Can't instantiate abstract class MyClass2 with abstract method foo"
     ]
    }
   ],
   "source": [
    "import abc\n",
    "\n",
    "class MyABC(abc.ABC): # Equivalent to: class MyABC(metaclass=abc.ABCMeta)\n",
    "    @abc.abstractmethod\n",
    "    def foo(self, number):\n",
    "        ...\n",
    "\n",
    "class MyClass(MyABC):\n",
    "    def foo(self, number):\n",
    "        return number * 2\n",
    "\n",
    "print(f\"{MyClass = }\")\n",
    "print(f\"{MyClass() = }\\n\")\n",
    "    \n",
    "class MyClass2(MyABC):\n",
    "    pass\n",
    "\n",
    "print(f\"{MyClass2 = }\")\n",
    "print(f\"{MyClass2() = }\")"
   ]
  },
  {
   "cell_type": "markdown",
   "id": "1ea23271",
   "metadata": {
    "slideshow": {
     "slide_type": "slide"
    }
   },
   "source": [
    "## Abstract Base Classes and custom subclass checks\n",
    "\n",
    "- `ABCMeta` class defines custom `__subclasscheck__()` and `__instancecheck__()` methods with extra functionality:\n",
    "    - `ABCMeta.__subclasscheck__()` calls `class.__subclasshook__()` class method\n",
    "    - Resuls of previous positive and negative checks are cached\n",
    "    - Specific classes can be manually _registered_ as _virtual_ subclasses of the ABC\n",
    "    - `isinstance(x, B)` is equivalent to `issubclass(x.__class__, B)` (or `issubclass(type(x), B)`)\n"
   ]
  },
  {
   "cell_type": "markdown",
   "id": "eb1c512e",
   "metadata": {
    "slideshow": {
     "slide_type": "slide"
    }
   },
   "source": [
    "- `__subclasshook__()` works as follows:\n",
    "  ```python\n",
    "    @classmethod\n",
    "    def __subclasshook__(cls, C): ...\n",
    "  ```\n",
    "- Returning `True` -> `C` is considered a subclass of the ABC\n",
    "- Returning `False` -> `C` is **not** considered a subclass of the ABC\n",
    "- Returning `NotImplemented` -> the subclass check continues with the usual mechanism\n"
   ]
  },
  {
   "cell_type": "code",
   "execution_count": 10,
   "id": "b0971200-a029-4c14-bd3b-f8d8676fc8ff",
   "metadata": {
    "slideshow": {
     "slide_type": "subslide"
    }
   },
   "outputs": [],
   "source": [
    "import abc\n",
    "\n",
    "# Previous example with custom metaclass:  CustomMeta.__subclasscheck__(...)\n",
    "# __subclasshook__ provides the same functionality but it is defined in the\n",
    "# class body, not in the metaclass\n",
    "class Foo(abc.ABC):\n",
    "    @classmethod\n",
    "    def __subclasshook__(cls, C):\n",
    "        print(f\"__subclasshook__({cls}, {C})\")\n",
    "        name = cls.__name__.split(\".\")[-1]\n",
    "        C_name = C.__name__.split(\".\")[-1]\n",
    "        if (\n",
    "            C_name.startswith(f\"{name}\")\n",
    "            and len(C_name) > len(name)\n",
    "            and C_name[len(name)].isupper()\n",
    "        ):\n",
    "            return True\n",
    "\n",
    "        return NotImplemented"
   ]
  },
  {
   "cell_type": "code",
   "execution_count": 11,
   "id": "c448064b",
   "metadata": {
    "slideshow": {
     "slide_type": "subslide"
    }
   },
   "outputs": [
    {
     "name": "stdout",
     "output_type": "stream",
     "text": [
      "isinstance(Foo(), Foo) = True\n",
      "\n",
      "__subclasshook__(<class '__main__.Foo'>, <class '__main__.Bar'>)\n",
      "issubclass(Bar, Foo) = True\n",
      "isinstance(Bar(), Foo) = True\n",
      "\n",
      "__subclasshook__(<class '__main__.Foo'>, <class '__main__.FooSomething'>)\n",
      "issubclass(FooSomething, Foo) = True, isinstance(FooSomething(), Foo) = True\n",
      "\n",
      "__subclasshook__(<class '__main__.Foo'>, <class '__main__.NotFooSomething'>)\n",
      "__subclasshook__(<class '__main__.Bar'>, <class '__main__.NotFooSomething'>)\n",
      "issubclass(NotFooSomething, Foo) = False\n",
      "\n",
      "__subclasshook__(<class '__main__.Bar'>, <class '__main__.BarSomething'>)\n",
      "issubclass(BarSomething, Bar) = True\n",
      "__subclasshook__(<class '__main__.Foo'>, <class '__main__.BarSomething'>)\n",
      "issubclass(BarSomething, Foo) = True\n"
     ]
    }
   ],
   "source": [
    "class Bar(Foo): ...\n",
    "\n",
    "class FooSomething: ...\n",
    "class NotFooSomething: ...\n",
    "class BarSomething: ...\n",
    "\n",
    "print(f\"{isinstance(Foo(), Foo) = }\\n\")\n",
    "\n",
    "print(f\"{issubclass(Bar, Foo) = }\")\n",
    "print(f\"{isinstance(Bar(), Foo) = }\\n\")\n",
    "\n",
    "print(f\"{issubclass(FooSomething, Foo) = }, {isinstance(FooSomething(), Foo) = }\\n\")\n",
    "\n",
    "# If is not a direct or indirect (via __subclasshook__) subclass of Foo, \n",
    "# it might still be a subclass of Foo if it satisfies  __subclasshook__()\n",
    "# of any of the subclasses of Foo\n",
    "print(f\"{issubclass(NotFooSomething, Foo) = }\\n\")\n",
    "\n",
    "print(f\"{issubclass(BarSomething, Bar) = }\")\n",
    "print(f\"{issubclass(BarSomething, Foo) = }\")\n"
   ]
  },
  {
   "cell_type": "markdown",
   "id": "d9d2bff8",
   "metadata": {
    "slideshow": {
     "slide_type": "slide"
    }
   },
   "source": [
    "## Abstract Base Classes and custom subclass checks\n",
    "\n",
    "- `register(cls)` takes one class argument\n",
    "- After the call `B.register(C)`, the call `issubclass(C, B)` will return `True` object.)\n"
   ]
  },
  {
   "cell_type": "code",
   "execution_count": 11,
   "id": "6e4ec5de",
   "metadata": {
    "slideshow": {
     "slide_type": "fragment"
    }
   },
   "outputs": [
    {
     "name": "stdout",
     "output_type": "stream",
     "text": [
      "issubclass(tuple, MyABC) = False\n",
      "isinstance((), MyABC) = False\n",
      "\n",
      "issubclass(tuple, MyABC) = True\n",
      "isinstance((), MyABC) = True\n"
     ]
    }
   ],
   "source": [
    "from abc import ABC\n",
    "\n",
    "class MyABC(ABC):\n",
    "    pass\n",
    "\n",
    "print(f\"{issubclass(tuple, MyABC) = }\")\n",
    "print(f\"{isinstance((), MyABC) = }\\n\")\n",
    "\n",
    "MyABC.register(tuple)\n",
    "\n",
    "print(f\"{issubclass(tuple, MyABC) = }\")\n",
    "print(f\"{isinstance((), MyABC) = }\")\n"
   ]
  },
  {
   "cell_type": "markdown",
   "id": "eb23bc45",
   "metadata": {
    "slideshow": {
     "slide_type": "slide"
    }
   },
   "source": [
    "## Abstract Base Classes and Protocols\n",
    "\n",
    "- Typing Protocols are defined in [PEP 544](https://peps.python.org/pep-0544)\n",
    "    - `Protocol` implementation is just an ABC with a custom `_ProtocolMeta` metaclass inheriting from `ABCMeta`\n",
    "- They solve more or less the same problems of ABCs but using a static type checker...\n",
    "    - Define the interface that any class should implement to be considered a subclass of the protocol\n",
    "    - Subclasses don't need to inherit directly from the protocol class\n",
    "- But they are different than ABCs:\n",
    "    - `ABC`s **only** provide runtime checks, static type checkers only support direct subclasses of the ABC\n",
    "    - `Protocol`s are meant to be used with a static type checker and they do not define runtime checks by default\n",
    "    - If the `Protocol` contains data (non-method) members:\n",
    "        + `isinstance(x, Protocol)` is **NOT** equivalent to `issubclass(x.__class__, Protocol)` \n"
   ]
  },
  {
   "cell_type": "code",
   "execution_count": 12,
   "id": "eabdd527",
   "metadata": {
    "slideshow": {
     "slide_type": "subslide"
    }
   },
   "outputs": [],
   "source": [
    "from typing import Protocol\n",
    "\n",
    "class SupportsClose(Protocol):\n",
    "    def close(self) -> None:\n",
    "        ...\n",
    "\n",
    "class A:\n",
    "    def close(self) -> None:\n",
    "        return None\n",
    "\n",
    "class B:\n",
    "    close = print\n",
    "\n",
    "class C:\n",
    "    close = sum\n",
    "\n",
    "class D:\n",
    "    close = None\n",
    "\n",
    "instanceA: SupportsClose = A()\n",
    "instanceB: SupportsClose = B()\n",
    "instanceC: SupportsClose = C()\n",
    "instanceD: SupportsClose = D()\n",
    "\n",
    "class S(SupportsClose):\n",
    "    pass\n",
    "\n",
    "instanceS: SupportsClose = S()\n"
   ]
  },
  {
   "cell_type": "markdown",
   "id": "414e13f2",
   "metadata": {
    "slideshow": {
     "slide_type": "fragment"
    }
   },
   "source": [
    "[https://mypy-play.net/?mypy=latest&python=3.10&gist=6338fd8b19db825bcb14d01e82d55ab1](https://mypy-play.net/?mypy=latest&python=3.10&gist=6338fd8b19db825bcb14d01e82d55ab1)"
   ]
  },
  {
   "cell_type": "code",
   "execution_count": 13,
   "id": "15e3f05d-e20d-49f3-91fb-bb18d8701f4b",
   "metadata": {
    "slideshow": {
     "slide_type": "slide"
    }
   },
   "outputs": [],
   "source": [
    "from typing import Protocol, List\n",
    "\n",
    "class Template(Protocol):\n",
    "    name: str        # This is a protocol member\n",
    "    value: int = 0   # This one too (with default)\n",
    "\n",
    "    def method(self) -> None:\n",
    "        self.temp: List[int] = [] # Error in type checker\n",
    "\n",
    "class Concrete:\n",
    "    def __init__(self, name: str, value: int) -> None:\n",
    "        self.name = name\n",
    "        self.value = value\n",
    "\n",
    "    def method(self) -> None:\n",
    "        return\n",
    "\n",
    "var: Template = Concrete('value', 42)  # OK"
   ]
  },
  {
   "cell_type": "markdown",
   "id": "1ecbe128",
   "metadata": {
    "slideshow": {
     "slide_type": "fragment"
    }
   },
   "source": [
    "[https://mypy-play.net/?mypy=latest&python=3.10&gist=26b78d56b12e9ff56db4842634bcedf4](https://mypy-play.net/?mypy=latest&python=3.10&gist=26b78d56b12e9ff56db4842634bcedf4)"
   ]
  },
  {
   "cell_type": "markdown",
   "id": "22373f66",
   "metadata": {
    "slideshow": {
     "slide_type": "subslide"
    }
   },
   "source": [
    "## Runtime-checkable Protocols\n",
    "\n",
    "- The optional `@runtime_checkable` decorator provides runtime checks by defining a valid `ABCMeta.__subclasshook__()`\n",
    "- **Warning:** `isinstance()` checks with `@runtime_checkable` Protocols have serious performance issues\n",
    "    - Some extra checks required for specific `typing` module implementation details\n",
    "    - If the `Protocol` contains data (non-method) members:\n",
    "        - `isinstance(x, Protocol)` is **NOT** equivalent to `issubclass(x.__class__, Protocol)` ...\n",
    "        - which means `isinstance()`  results are not cached per class but recomputed every time\n",
    "        - `issubclass()` checks are not supported\n",
    "    "
   ]
  },
  {
   "cell_type": "code",
   "execution_count": 14,
   "id": "3a569c25",
   "metadata": {
    "slideshow": {
     "slide_type": "subslide"
    }
   },
   "outputs": [
    {
     "name": "stdout",
     "output_type": "stream",
     "text": [
      "isinstance(var, Template) = True\n"
     ]
    },
    {
     "ename": "TypeError",
     "evalue": "Protocols with non-method members don't support issubclass()",
     "output_type": "error",
     "traceback": [
      "\u001b[0;31m---------------------------------------------------------------------------\u001b[0m",
      "\u001b[0;31mTypeError\u001b[0m                                 Traceback (most recent call last)",
      "Cell \u001b[0;32mIn[14], line 22\u001b[0m\n\u001b[1;32m     19\u001b[0m var: Template \u001b[38;5;241m=\u001b[39m Concrete(\u001b[38;5;124m'\u001b[39m\u001b[38;5;124mvalue\u001b[39m\u001b[38;5;124m'\u001b[39m, \u001b[38;5;241m42\u001b[39m)  \u001b[38;5;66;03m# OK\u001b[39;00m\n\u001b[1;32m     21\u001b[0m \u001b[38;5;28mprint\u001b[39m(\u001b[38;5;124mf\u001b[39m\u001b[38;5;124m\"\u001b[39m\u001b[38;5;132;01m{\u001b[39;00m\u001b[38;5;28misinstance\u001b[39m(var,\u001b[38;5;250m \u001b[39mTemplate)\u001b[38;5;250m \u001b[39m\u001b[38;5;132;01m= }\u001b[39;00m\u001b[38;5;124m\"\u001b[39m)\n\u001b[0;32m---> 22\u001b[0m \u001b[38;5;28mprint\u001b[39m(\u001b[38;5;124mf\u001b[39m\u001b[38;5;124m\"\u001b[39m\u001b[38;5;132;01m{\u001b[39;00m\u001b[38;5;28;43missubclass\u001b[39;49m\u001b[43m(\u001b[49m\u001b[43mvar\u001b[49m\u001b[38;5;241;43m.\u001b[39;49m\u001b[38;5;18;43m__class__\u001b[39;49m\u001b[43m,\u001b[49m\u001b[38;5;250;43m \u001b[39;49m\u001b[43mTemplate\u001b[49m\u001b[43m)\u001b[49m\u001b[38;5;250m \u001b[39m\u001b[38;5;132;01m= }\u001b[39;00m\u001b[38;5;124m\"\u001b[39m)\n",
      "File \u001b[0;32m/usr/lib/python3.10/abc.py:123\u001b[0m, in \u001b[0;36mABCMeta.__subclasscheck__\u001b[0;34m(cls, subclass)\u001b[0m\n\u001b[1;32m    121\u001b[0m \u001b[38;5;28;01mdef\u001b[39;00m \u001b[38;5;21m__subclasscheck__\u001b[39m(\u001b[38;5;28mcls\u001b[39m, subclass):\n\u001b[1;32m    122\u001b[0m \u001b[38;5;250m    \u001b[39m\u001b[38;5;124;03m\"\"\"Override for issubclass(subclass, cls).\"\"\"\u001b[39;00m\n\u001b[0;32m--> 123\u001b[0m     \u001b[38;5;28;01mreturn\u001b[39;00m \u001b[43m_abc_subclasscheck\u001b[49m\u001b[43m(\u001b[49m\u001b[38;5;28;43mcls\u001b[39;49m\u001b[43m,\u001b[49m\u001b[43m \u001b[49m\u001b[43msubclass\u001b[49m\u001b[43m)\u001b[49m\n",
      "File \u001b[0;32m/usr/lib/python3.10/typing.py:1570\u001b[0m, in \u001b[0;36mProtocol.__init_subclass__.<locals>._proto_hook\u001b[0;34m(other)\u001b[0m\n\u001b[1;32m   1568\u001b[0m     \u001b[38;5;28;01mif\u001b[39;00m _allow_reckless_class_checks():\n\u001b[1;32m   1569\u001b[0m         \u001b[38;5;28;01mreturn\u001b[39;00m \u001b[38;5;28mNotImplemented\u001b[39m\n\u001b[0;32m-> 1570\u001b[0m     \u001b[38;5;28;01mraise\u001b[39;00m \u001b[38;5;167;01mTypeError\u001b[39;00m(\u001b[38;5;124m\"\u001b[39m\u001b[38;5;124mProtocols with non-method members\u001b[39m\u001b[38;5;124m\"\u001b[39m\n\u001b[1;32m   1571\u001b[0m                     \u001b[38;5;124m\"\u001b[39m\u001b[38;5;124m don\u001b[39m\u001b[38;5;124m'\u001b[39m\u001b[38;5;124mt support issubclass()\u001b[39m\u001b[38;5;124m\"\u001b[39m)\n\u001b[1;32m   1572\u001b[0m \u001b[38;5;28;01mif\u001b[39;00m \u001b[38;5;129;01mnot\u001b[39;00m \u001b[38;5;28misinstance\u001b[39m(other, \u001b[38;5;28mtype\u001b[39m):\n\u001b[1;32m   1573\u001b[0m     \u001b[38;5;66;03m# Same error message as for issubclass(1, int).\u001b[39;00m\n\u001b[1;32m   1574\u001b[0m     \u001b[38;5;28;01mraise\u001b[39;00m \u001b[38;5;167;01mTypeError\u001b[39;00m(\u001b[38;5;124m'\u001b[39m\u001b[38;5;124missubclass() arg 1 must be a class\u001b[39m\u001b[38;5;124m'\u001b[39m)\n",
      "\u001b[0;31mTypeError\u001b[0m: Protocols with non-method members don't support issubclass()"
     ]
    }
   ],
   "source": [
    "from typing import Protocol, List, runtime_checkable\n",
    "\n",
    "@runtime_checkable\n",
    "class Template(Protocol):\n",
    "    name: str        # This is a protocol member\n",
    "    value: int = 0   # This one too (with default)\n",
    "\n",
    "    def method(self) -> None:\n",
    "        self.temp: List[int] = [] # Error in type checker\n",
    "\n",
    "class Concrete:\n",
    "    def __init__(self, name: str, value: int) -> None:\n",
    "        self.name = name\n",
    "        self.value = value\n",
    "\n",
    "    def method(self) -> None:\n",
    "        return\n",
    "\n",
    "var: Template = Concrete('value', 42)  # OK\n",
    "    \n",
    "print(f\"{isinstance(var, Template) = }\")\n",
    "print(f\"{issubclass(var.__class__, Template) = }\")\n"
   ]
  }
 ],
 "metadata": {
  "celltoolbar": "Slideshow",
  "kernelspec": {
   "display_name": "Python 3 (ipykernel)",
   "language": "python",
   "name": "python3"
  },
  "language_info": {
   "codemirror_mode": {
    "name": "ipython",
    "version": 3
   },
   "file_extension": ".py",
   "mimetype": "text/x-python",
   "name": "python",
   "nbconvert_exporter": "python",
   "pygments_lexer": "ipython3",
   "version": "3.10.6"
  }
 },
 "nbformat": 4,
 "nbformat_minor": 5
}
