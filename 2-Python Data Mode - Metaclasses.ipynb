{
 "cells": [
  {
   "cell_type": "markdown",
   "id": "037d6a2f-be61-431c-9644-fa247caafc47",
   "metadata": {
    "slideshow": {
     "slide_type": "slide"
    },
    "tags": []
   },
   "source": [
    "# Understanding the Python Data Model: Metaclasses and ABCs"
   ]
  },
  {
   "cell_type": "markdown",
   "id": "84bf55fe-6982-4c37-a9f2-7eb284485b3d",
   "metadata": {
    "slideshow": {
     "slide_type": "slide"
    },
    "tags": []
   },
   "source": [
    "## Python Objects\n",
    "- _\"Objects are Python’s abstraction for data. All data in a Python program is represented by objects or by relations between objects\"_\n",
    "- Every `object` has:\n",
    "    + **Identity**: it never changes once the object has been created (_~= memory address_)\n",
    "    + **Type**: a reference to another object (its `class` or `type`) which determines the operations that the object supports. In theory, it shouldn't change after creation\n",
    "    + **Value**: \n",
    "        + _usually_ just a mapping from strings to counted object references (`__dict__`). It supports definition of new attributes at any time\n",
    "        + _but_ some classes are more restricted (e.g. slotted classes, builtins and types defined in CPython extensions)\n",
    "- The _type_ of an object is another object referenced in the `__class__` attribute\n",
    "    - _Usually_ `type(foo) == foo.__class__`    "
   ]
  },
  {
   "cell_type": "markdown",
   "id": "9b41449c",
   "metadata": {
    "slideshow": {
     "slide_type": "slide"
    }
   },
   "source": [
    "# Python Classes\n",
    "\n",
    "- A Python class is just another Python object:\n",
    "    + It stores shared definitions for all instances (dunder and regular methods, class variables)\n",
    "    + It works as a factory of new instances:\n",
    "        + Its `__call__()` method creates new objects whose `__class__` attribute points back to the class\n",
    "        + Default `type.__call__(cls, ...)` implementation calls `cls.__new__(...)` then calls `cls.__init__(...)` (if appropriate)\n",
    "- Python syntax is translated into _dunder_ function calls looked up in the `instance.__class__` dict (previous level of abstraction of the calling instance)\n",
    "    + `foo + bar` => `foo.__class__.__add__(foo, bar)`\n",
    "\n",
    "- The class of a class, a _metaclass_, is also a class (and therefore it essentially follows the same pattern)"
   ]
  },
  {
   "cell_type": "markdown",
   "id": "9967cefe",
   "metadata": {
    "slideshow": {
     "slide_type": "slide"
    }
   },
   "source": [
    " ## Python Data Model\n",
    "\n",
    "<img src=\"images/meta-diagram.svg\" width=\"1400\">\n",
    "\n",
    "**Note:** _\"The type of all types is `type`\"_  is not _strictly_ true. The opposite case is only useful for very narrow use cases\n"
   ]
  },
  {
   "cell_type": "markdown",
   "id": "74cc6c02",
   "metadata": {
    "slideshow": {
     "slide_type": "slide"
    }
   },
   "source": [
    "## Metaclasses: Implementing custom class behaviour\n",
    "\n",
    "- Example: we want to use `A + B` as alternative syntax for `A | B`:\n",
    "    ```python\n",
    "    A + B == A | B == Union[A, B]\n",
    "    ```\n",
    "- Where should be defined the `__add__()` method?\n",
    "    ```python\n",
    "    class A:\n",
    "        def __add__(self, other):\n",
    "            ...\n",
    "    ```\n",
    "    - **NO!!** This works for `A` instances: `a = A(); b = B(); c = a + b`\n",
    "    - We need to use a custom metaclass!!\n",
    "    "
   ]
  },
  {
   "cell_type": "code",
   "execution_count": 78,
   "id": "e8321c0a",
   "metadata": {
    "slideshow": {
     "slide_type": "subslide"
    }
   },
   "outputs": [
    {
     "name": "stdout",
     "output_type": "stream",
     "text": [
      "A + B = typing.Union[__main__.A, __main__.B]\n",
      "\n",
      "Creating A instances...\n",
      "<__main__.A object at 0x7f793cd29a20>\n"
     ]
    }
   ],
   "source": [
    "from typing import Union\n",
    "\n",
    "class CustomMeta(type):\n",
    "    def __add__(cls, other):\n",
    "        return Union[cls, other]\n",
    "        \n",
    "class A(metaclass=CustomMeta):\n",
    "    pass\n",
    "\n",
    "class B:\n",
    "    pass\n",
    "\n",
    "print(f\"{A + B = }\")\n",
    "\n",
    "print(\"\\nCreating A instances...\")\n",
    "a = A()\n",
    "b = B()\n",
    "print(a)\n",
    "# This should fail:\n",
    "#print(a + b)"
   ]
  },
  {
   "cell_type": "markdown",
   "id": "8d1bf14d",
   "metadata": {
    "slideshow": {
     "slide_type": "subslide"
    }
   },
   "source": [
    "## Implementing custom class behaviour with `type`\n",
    "- The standard `type` metaclass provides some hooks to customize the class behavior directly in the class, to avoid excesive use of small metaclasses:\n",
    "    - _(auto-classmethod)_ `object.__init_subclass__(cls, **kwargs)`: Called whenever the containing `class` is subclassed. `cls` is then the new subclass.\n"
   ]
  },
  {
   "cell_type": "code",
   "execution_count": 66,
   "id": "b1bbfdb9",
   "metadata": {
    "slideshow": {
     "slide_type": "fragment"
    }
   },
   "outputs": [
    {
     "name": "stdout",
     "output_type": "stream",
     "text": [
      "__init_subclass__(<class '__main__.Child1'>, {})\n",
      "__init_subclass__(<class '__main__.Child2'>, {})\n",
      "\n",
      "Child1.FOO = 42, Child2.FOO = 'Default!!'\n"
     ]
    }
   ],
   "source": [
    "class Parent:\n",
    "    def __init_subclass__(cls, /, **kwargs):\n",
    "        print(f\"__init_subclass__({cls}, {kwargs})\")\n",
    "        super().__init_subclass__(**kwargs)\n",
    "        if \"FOO\" not in cls.__dict__:\n",
    "            cls.FOO = \"Default!!\"\n",
    "        \n",
    "class Child1(Parent):\n",
    "    FOO = 42\n",
    "\n",
    "class Child2(Child1):\n",
    "    pass\n",
    "\n",
    "print(f\"\\n{Child1.FOO = }, {Child2.FOO = }\")"
   ]
  },
  {
   "cell_type": "markdown",
   "id": "259e2dac",
   "metadata": {
    "slideshow": {
     "slide_type": "subslide"
    }
   },
   "source": [
    "## Implementing custom class behaviour with `type`\n",
    "- `type` metaclass customization hooks:\n",
    "    - _(auto-classmethod)_ `object.__class_getitem__(cls, key)`: Return an object representing the specialization of a generic class by type arguments found in key.\n",
    "        + It has lower priority than `__getitem__` in the metaclass\n",
    "        + It is used mostly for run-time implementation of `Generic` typing annotations"
   ]
  },
  {
   "cell_type": "code",
   "execution_count": 58,
   "id": "6f23dd04",
   "metadata": {
    "slideshow": {
     "slide_type": "fragment"
    }
   },
   "outputs": [
    {
     "name": "stdout",
     "output_type": "stream",
     "text": [
      "Parent[0:-1] = [<class '__main__.Child0'>, <class '__main__.Child1'>]\n",
      "\n",
      "Parent['Child2'] = [<class '__main__.Child2'>]\n"
     ]
    }
   ],
   "source": [
    "class Parent:\n",
    "    def __class_getitem__(cls, key):\n",
    "        if isinstance(key, str):\n",
    "            return [sub for sub in cls.__subclasses__() if sub.__name__ == key]\n",
    "        else:\n",
    "            return cls.__subclasses__()[key]\n",
    "        \n",
    "class Child0(Parent): ...\n",
    "class Child1(Parent): ...\n",
    "class Child2(Parent): ...\n",
    "\n",
    "print(f\"{Parent[0:-1] = }\")\n",
    "\n",
    "print(f\"\\n{Parent['Child2'] = }\")"
   ]
  },
  {
   "cell_type": "markdown",
   "id": "55f8c21b",
   "metadata": {
    "slideshow": {
     "slide_type": "slide"
    }
   },
   "source": [
    "## Metaclasses: Implementing custom class behaviour\n",
    "- Using metaclasses is also possible to override class-related operators like `isinstance()` and `issubclass()`\n",
    "    + `class.__instancecheck__(cls, instance)`: Return `true` if instance should be considered a (direct or indirect) instance of `class`.\n"
   ]
  },
  {
   "cell_type": "code",
   "execution_count": 65,
   "id": "0ce2acc3",
   "metadata": {
    "slideshow": {
     "slide_type": "subslide"
    }
   },
   "outputs": [
    {
     "name": "stdout",
     "output_type": "stream",
     "text": [
      "isinstance(a, HappyClass) = True\n",
      "isinstance(b, HappyClass) = False\n",
      "isinstance(foo, HappyClass) = True\n"
     ]
    }
   ],
   "source": [
    "import dataclasses, types\n",
    "\n",
    "class CustomMeta(type):\n",
    "    def __instancecheck__(cls, instance):\n",
    "        if hasattr(cls, \"DISCRIMINATING_ATTR\"):\n",
    "            assert isinstance(cls.DISCRIMINATING_ATTR, str)\n",
    "            return getattr(instance, cls.DISCRIMINATING_ATTR, False) is True\n",
    "        return False\n",
    "\n",
    "class HappyClass(metaclass=CustomMeta):\n",
    "    DISCRIMINATING_ATTR = \"happy\"\n",
    "\n",
    "a = types.SimpleNamespace(happy=True)\n",
    "b = types.SimpleNamespace(value=42)\n",
    "\n",
    "@dataclasses.dataclass\n",
    "class Foo:\n",
    "    happy: bool\n",
    "\n",
    "foo = Foo(True)\n",
    "\n",
    "print(f\"{isinstance(a, HappyClass) = }\")\n",
    "print(f\"{isinstance(b, HappyClass) = }\")\n",
    "print(f\"{isinstance(foo, HappyClass) = }\")\n"
   ]
  },
  {
   "cell_type": "markdown",
   "id": "1de600da",
   "metadata": {
    "slideshow": {
     "slide_type": "slide"
    }
   },
   "source": [
    "## Metaclasses: Implementing custom class behaviour\n",
    "- Using metaclasses is also possible to override class-related operators like `isinstance()` and `issubclass()`\n",
    "    + `class.__subclasscheck__(cls, subclass)`: Return `true` if `subclass` should be considered a (direct or indirect) `subclass` of `class`.\n"
   ]
  },
  {
   "cell_type": "code",
   "execution_count": 80,
   "id": "2c31dc93",
   "metadata": {
    "slideshow": {
     "slide_type": "subslide"
    }
   },
   "outputs": [
    {
     "name": "stdout",
     "output_type": "stream",
     "text": [
      "issubclass(FooSomething, Foo) = True\n",
      "issubclass(NotFooSomething, Foo) = False\n"
     ]
    }
   ],
   "source": [
    "class CustomMeta(type):\n",
    "    def __subclasscheck__(cls, subclass):\n",
    "        name = cls.__name__.split(\".\")[-1]\n",
    "        sub_name = subclass.__name__.split(\".\")[-1]\n",
    "        return sub_name.startswith(f\"{name}\") and sub_name[len(name)].isupper()\n",
    "\n",
    "class Foo(metaclass=CustomMeta):\n",
    "    pass\n",
    "\n",
    "class FooSomething:\n",
    "    pass\n",
    "\n",
    "class NotFooSomething:\n",
    "    pass\n",
    "\n",
    "print(f\"{issubclass(FooSomething, Foo) = }\")\n",
    "print(f\"{issubclass(NotFooSomething, Foo) = }\")\n"
   ]
  },
  {
   "cell_type": "markdown",
   "id": "439491a5",
   "metadata": {
    "slideshow": {
     "slide_type": "slide"
    }
   },
   "source": [
    "## Metaclasses: customizing class creation    \n",
    "- Customization can happen at multiple points\n",
    "- For subclasses of `type`, the simplest way is to use the same mechanism available for customization of instances, since classes are just instances of the metaclasss:\n",
    "    - `__new__()` -> before the _instance_ (a new class in this case) is created \n",
    "    - `__init__()` -> after the instance has been created (weird usage in this case)"
   ]
  },
  {
   "cell_type": "code",
   "execution_count": 83,
   "id": "e2a86933",
   "metadata": {
    "slideshow": {
     "slide_type": "subslide"
    }
   },
   "outputs": [
    {
     "name": "stdout",
     "output_type": "stream",
     "text": [
      "MyType.__new__((<class '__main__.MyMeta'>, 'A', (), {'__module__': '__main__', '__qualname__': 'A', 'VALUE': 42}), {})\n",
      "\n",
      "MyType.__init__(<class '__main__.A'>, ('A', (), {'__module__': '__main__', '__qualname__': 'A', 'VALUE': 42}), {})\n",
      "MyType.__new__((<class '__main__.MyMeta'>, 'B', (<class '__main__.A'>,), {'__module__': '__main__', '__qualname__': 'B'}), {})\n",
      "\n",
      "MyType.__init__(<class '__main__.B'>, ('B', (<class '__main__.A'>,), {'__module__': '__main__', '__qualname__': 'B'}), {})\n"
     ]
    },
    {
     "data": {
      "text/plain": [
       "__main__.MyMeta"
      ]
     },
     "execution_count": 83,
     "metadata": {},
     "output_type": "execute_result"
    }
   ],
   "source": [
    "class MyMeta(type):\n",
    "    def __new__(*args, **kwargs):\n",
    "        print(f\"MyType.__new__({args}, {kwargs})\")\n",
    "        return type.__new__(*args, **kwargs)\n",
    "    \n",
    "    def __init__(cls, *args, **kwargs):\n",
    "        print(f\"\\nMyType.__init__({cls}, {args}, {kwargs})\")\n",
    "        cls.VALUE = 0\n",
    "        return None\n",
    "    \n",
    "\n",
    "class A(metaclass=MyMeta):\n",
    "    VALUE = 42\n",
    "\n",
    "class ABC(metaclass=abc.ABCMeta):\n",
    "    pass\n",
    "    \n",
    "class B(abc.ABC): pass\n",
    "    \n",
    "B.__class__\n",
    "\n",
    "#rint(f\"\\n{A.VALUE = }\")"
   ]
  },
  {
   "cell_type": "markdown",
   "id": "940686c7",
   "metadata": {
    "slideshow": {
     "slide_type": "slide"
    }
   },
   "source": [
    "## Metaclasses: customizing class creation\n",
    "- `class` keyword is just syntatic sugar to call the metaclass\n",
    "    ```python\n",
    "    class MyType(A, B, C, metaclass=MyMeta, kwarg2=33):\n",
    "        VALUE = 42        \n",
    "        def x(self, b): return ...\n",
    "    ```\n",
    "    is roughly equivalent to ([3.3.3.1. Metaclasses](https://docs.python.org/3/reference/datamodel.html#metaclasses)):\n",
    "    ```python\n",
    "    # MRO entries are resolved\n",
    "    bases = solve_mro_entries(A, B, C)  # For regular bases == (A, B, C)\n",
    "    # the appropriate metaclass is determined\n",
    "    kwargs = dict(metaclass=MyMeta, kwarg2=33)\n",
    "    metaclass = kwargs.pop(\"metaclass\", type)\n",
    "    # the class namespace is prepared\n",
    "    body_ns = metaclass.__prepare__(\"MyType\", bases, **kwargs) # == dict()\n",
    "    # the class body is executed\n",
    "    exec(SOURCE_LINES[1:4], globals(), body_ns)\n",
    "    # the class object is created\n",
    "    new_class = metaclass(\"MyType\", bases, body_ns, **kwargs)\n",
    "    ```\n",
    "    "
   ]
  },
  {
   "cell_type": "code",
   "execution_count": 75,
   "id": "20c47ef0",
   "metadata": {
    "slideshow": {
     "slide_type": "slide"
    }
   },
   "outputs": [
    {
     "name": "stdout",
     "output_type": "stream",
     "text": [
      "vars(Foo).keys() = dict_keys(['__module__', 'something', '__dict__', '__weakref__', '__doc__'])\n"
     ]
    }
   ],
   "source": [
    "class FooMeta(type):\n",
    "    def __new__(mcls, name, bases, ns, **kwargs):\n",
    "        filtered_ns = {key: value for key, value in ns.items() if key not in [\"foo\", \"bar\"]}\n",
    "        #print(ns, filtered_ns)\n",
    "        return type(name, bases, filtered_ns, **kwargs)\n",
    "\n",
    "class Foo(metaclass=FooMeta):\n",
    "    def foo(self):\n",
    "        return 42\n",
    "    \n",
    "    def bar(self):\n",
    "        return 42\n",
    "    \n",
    "    def something(self):\n",
    "        return 42\n",
    "    \n",
    "print(f\"{vars(Foo).keys() = }\")"
   ]
  },
  {
   "cell_type": "code",
   "execution_count": null,
   "id": "28f44e9f-7af1-45b1-bf49-e22af5497c65",
   "metadata": {
    "slideshow": {
     "slide_type": "slide"
    }
   },
   "outputs": [],
   "source": []
  },
  {
   "cell_type": "code",
   "execution_count": null,
   "id": "c60387f1-a4aa-47b5-87d3-b2c03dcf5b23",
   "metadata": {},
   "outputs": [],
   "source": []
  },
  {
   "cell_type": "code",
   "execution_count": null,
   "id": "f705a4df-1c88-4e85-9e78-8acd7e7a50d0",
   "metadata": {},
   "outputs": [],
   "source": []
  },
  {
   "cell_type": "code",
   "execution_count": null,
   "id": "b0971200-a029-4c14-bd3b-f8d8676fc8ff",
   "metadata": {},
   "outputs": [],
   "source": []
  },
  {
   "cell_type": "code",
   "execution_count": null,
   "id": "e238a4df-cb70-45e2-a4e9-3d6fa4eb6d22",
   "metadata": {},
   "outputs": [],
   "source": []
  },
  {
   "cell_type": "code",
   "execution_count": null,
   "id": "def27bab-770e-461c-ae03-6b14fba51db2",
   "metadata": {},
   "outputs": [],
   "source": []
  },
  {
   "cell_type": "code",
   "execution_count": null,
   "id": "a524539b-5d2c-4a14-8adf-016f6cabfd59",
   "metadata": {},
   "outputs": [],
   "source": []
  },
  {
   "cell_type": "code",
   "execution_count": null,
   "id": "15e3f05d-e20d-49f3-91fb-bb18d8701f4b",
   "metadata": {},
   "outputs": [],
   "source": []
  },
  {
   "cell_type": "code",
   "execution_count": null,
   "id": "08489e35-c93a-449c-b27b-27b51d56a601",
   "metadata": {},
   "outputs": [],
   "source": []
  }
 ],
 "metadata": {
  "celltoolbar": "Slideshow",
  "kernelspec": {
   "display_name": "Python 3 (ipykernel)",
   "language": "python",
   "name": "python3"
  },
  "language_info": {
   "codemirror_mode": {
    "name": "ipython",
    "version": 3
   },
   "file_extension": ".py",
   "mimetype": "text/x-python",
   "name": "python",
   "nbconvert_exporter": "python",
   "pygments_lexer": "ipython3",
   "version": "3.10.6"
  }
 },
 "nbformat": 4,
 "nbformat_minor": 5
}
