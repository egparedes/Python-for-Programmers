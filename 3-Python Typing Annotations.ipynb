{
 "cells": [
  {
   "cell_type": "markdown",
   "id": "037d6a2f-be61-431c-9644-fa247caafc47",
   "metadata": {
    "slideshow": {
     "slide_type": "slide"
    },
    "tags": []
   },
   "source": [
    "# Understanding Python Annotations\n"
   ]
  },
  {
   "cell_type": "markdown",
   "id": "84bf55fe-6982-4c37-a9f2-7eb284485b3d",
   "metadata": {
    "slideshow": {
     "slide_type": "slide"
    },
    "tags": []
   },
   "source": [
    "## Python Annotations\n",
    "- Introduced in [PEP 3107](https://peps.python.org/pep-3107/) with the following principles:\n",
    "    + Annotations are completely optional\n",
    "    + Python does not attach any particular meaning to annotations: just compile time associations of Python expressions to source code elements\n",
    "- Later in [PEP 484](https://peps.python.org/pep-0484/) a syntax to use annotations for type checkers was standardized\n",
    "    + A `typing` module was added to the standard library with a base set of specifications\n",
    "    + Run-time behavior stays as before\n",
    "    + It does NOT prevent other uses of annotations\n",
    "    \n"
   ]
  },
  {
   "cell_type": "markdown",
   "id": "9b41449c",
   "metadata": {
    "slideshow": {
     "slide_type": "slide"
    }
   },
   "source": [
    "## Python Annotations at Run-Time\n",
    "\n",
    "- Run-time inspection of annotations ([Annotations Best Practices](https://docs.python.org/3/howto/annotations.html)):\n",
    "    + Local variable annotations are not accessible at run-time\n",
    "    ```python\n",
    "    def f(a: float) -> int:\n",
    "        result: int = int(a)  # this annotation is completely gone at run-time\n",
    "        return result\n",
    "    ```\n",
    "    + Function, class and module annotations are available as `__annotations__`\n",
    "        + Recommended way since Python 3.10 is to use `inspect.get_annotations()`\n",
    "            + Unlike `typing.get_type_hints()`, it returns bare annotations\n",
    "        + When `from __future__ import annotations` is used, annotations are stringized automatically by Python\n",
    "       \n"
   ]
  },
  {
   "cell_type": "code",
   "execution_count": 1,
   "id": "8c846328",
   "metadata": {
    "slideshow": {
     "slide_type": "subslide"
    }
   },
   "outputs": [
    {
     "name": "stdout",
     "output_type": "stream",
     "text": [
      "f.__annotations__ = {'a': <class 'float'>, 'return': <class 'int'>}\n",
      "inspect.get_annotations(A) = {'foo': <class 'int'>}\n",
      "A.method.__annotations__ = {'a': <class 'int'>, 'return': <class 'str'>}\n"
     ]
    }
   ],
   "source": [
    "import inspect\n",
    "\n",
    "def f(a: float) -> int:\n",
    "    result: int = int(a)  # this annotation is completely gone at run-time\n",
    "    return result\n",
    "\n",
    "class A:\n",
    "    foo: int\n",
    "        \n",
    "    def method(a: int) -> str:\n",
    "        return str(a)\n",
    "    \n",
    "print(f\"{f.__annotations__ = }\")\n",
    "print(f\"{inspect.get_annotations(A) = }\")\n",
    "print(f\"{A.method.__annotations__ = }\")\n"
   ]
  },
  {
   "cell_type": "code",
   "execution_count": 2,
   "id": "9b0c9742",
   "metadata": {
    "slideshow": {
     "slide_type": "subslide"
    }
   },
   "outputs": [
    {
     "name": "stdout",
     "output_type": "stream",
     "text": [
      "f.__annotations__ = {'a': 'float', 'return': 'int'}\n",
      "inspect.get_annotations(A) = {'foo': 'int'}\n",
      "A.method.__annotations__ = {'a': 'int', 'return': 'str'}\n"
     ]
    }
   ],
   "source": [
    "from __future__ import annotations\n",
    "\n",
    "import inspect\n",
    "\n",
    "def f(a: float) -> int:\n",
    "    result: int = int(a)  # this annotation is completely gone at run-time\n",
    "    return result\n",
    "\n",
    "class A:\n",
    "    foo: int\n",
    "        \n",
    "    def method(a: int) -> str:\n",
    "        return str(a)\n",
    "    \n",
    "print(f\"{f.__annotations__ = }\")\n",
    "print(f\"{inspect.get_annotations(A) = }\")\n",
    "print(f\"{A.method.__annotations__ = }\")\n"
   ]
  },
  {
   "cell_type": "markdown",
   "id": "b546cf78",
   "metadata": {
    "slideshow": {
     "slide_type": "slide"
    }
   },
   "source": [
    "## Stringized Python Annotations at Run-Time\n",
    "\n",
    "- Using `from __future__ import annotations` is preferred\n",
    "    + It avoids automatic run-time evaluation of the expressions when loading the module\n",
    "    + It avoids problem with symbols defined later\n",
    "    ```python\n",
    "    from __future__ import annotations  # This is required\n",
    "\n",
    "    class A:\n",
    "        parent: B  # without future import, this should be 'B'\n",
    "        children: list[A] # without future import, this should be list['A']\n",
    "\n",
    "    class B:\n",
    "        pass\n",
    "    ```\n",
    "    "
   ]
  },
  {
   "cell_type": "markdown",
   "id": "cd5baf0b",
   "metadata": {
    "slideshow": {
     "slide_type": "subslide"
    }
   },
   "source": [
    "- but it has some issues...\n",
    "    - Strings need to be evaluated to get its actual value\n",
    "    ```python\n",
    "    eval(f.__annotations__['a'])\n",
    "    ```\n",
    "    - When using annotations as typing hints, `typing.get_type_hints()` should be used:\n",
    "    ```python\n",
    "    typing.get_type_hints(f)['a']\n",
    "    ```"
   ]
  },
  {
   "cell_type": "code",
   "execution_count": 3,
   "id": "27b9792b",
   "metadata": {
    "slideshow": {
     "slide_type": "subslide"
    }
   },
   "outputs": [
    {
     "name": "stdout",
     "output_type": "stream",
     "text": [
      "inspect.get_annotations(f) = {'a': 'float', 'return': 'int'}\n",
      "typing.get_type_hints(f) = {'a': <class 'float'>, 'return': <class 'int'>}\n"
     ]
    }
   ],
   "source": [
    "from __future__ import annotations\n",
    "\n",
    "import inspect\n",
    "import typing\n",
    "\n",
    "def f(a: float) -> int:\n",
    "    result: int = int(a)\n",
    "    return result\n",
    "\n",
    "print(f\"{inspect.get_annotations(f) = }\")\n",
    "print(f\"{typing.get_type_hints(f) = }\")"
   ]
  },
  {
   "cell_type": "markdown",
   "id": "4658ae3c",
   "metadata": {
    "slideshow": {
     "slide_type": "slide"
    }
   },
   "source": [
    "## get_type_hints(obj, globalns=None, localns=None, include_extras=False)\n",
    "\n",
    "- Basically, `get_type_hints()` evaluates the stringized annotations passing the expected _global_ and _local_ namespaces to `eval()`:\n",
    "    + If `o` is a module, it uses `o.__dict__` as the globals when calling `eval()`\n",
    "    + If `o` is a class, it uses `sys.modules[o.__module__].__dict__` as the globals, and `dict(vars(o))` as the locals, when calling `eval()`\n",
    "    + If `o` is a wrapped callable using `functools.update_wrapper()`, `functools.wraps()`, or `functools.partial()`, it iteratively unwraps it by accessing either `o.__wrapped__` or `o.func` as appropriate, until finding the root unwrapped function\n",
    "    + If `o` is a callable (but not a class), it uses `o.__globals__` as the globals when calling `eval()`\n",
    "- Note that _nonlocal_ variables will not work by default\n",
    "    ```python\n",
    "    def f(a: float) -> int:\n",
    "        Foo = int\n",
    "        def inner(inner_a: Foo) -> None:\n",
    "            pass\n",
    "    ```"
   ]
  },
  {
   "cell_type": "code",
   "execution_count": 5,
   "id": "86715753",
   "metadata": {
    "slideshow": {
     "slide_type": "subslide"
    }
   },
   "outputs": [
    {
     "name": "stdout",
     "output_type": "stream",
     "text": [
      "typing.get_type_hints(C.inner, localns={'InnerC': float}) = {'inner_a': <class 'float'>, 'return': <class 'NoneType'>}\n"
     ]
    }
   ],
   "source": [
    "from __future__ import annotations\n",
    "\n",
    "import typing\n",
    "\n",
    "class C:\n",
    "    class InnerC:\n",
    "        pass\n",
    "    \n",
    "    def inner(inner_a: InnerC) -> None:\n",
    "        pass\n",
    "    \n",
    "#print(f\"{typing.get_type_hints(C.inner) = }\")\n",
    "print(f\"{typing.get_type_hints(C.inner, localns={'InnerC': float}) = }\")\n"
   ]
  },
  {
   "cell_type": "markdown",
   "id": "f3d5239e",
   "metadata": {
    "slideshow": {
     "slide_type": "slide"
    }
   },
   "source": [
    "## Generic Aliases\n",
    "\n",
    "- `typing` defines some parametrized constructs to specify typings other than just types (`Optional`, `Union`, `Generic`, `TypeVar`, ...)\n",
    "- At run-time they are just _dumb_ objects and their values should be considered private implementation details of the `typing` module\n",
    "- Exception: _concrete_ instantiation of generic types return `types.GenericAlias` instances which can be used as\n",
    "    + instance constructors (discouraged): `list[int]() == list()`\n",
    "    + base classes:\n",
    "    ```python\n",
    "    class A(list[int]):\n",
    "        pass\n",
    "    ```   \n",
    "    + In both cases, they are **completely equivalent** to use the generic type\n",
    "    + Before standard types were made generic, aliases existed in `typing` were required (`typing.List[int]`), and those return a private class from `typing` instead of `types.GenericAlias`\n"
   ]
  },
  {
   "cell_type": "code",
   "execution_count": 5,
   "id": "f17b8ed7",
   "metadata": {
    "slideshow": {
     "slide_type": "subslide"
    }
   },
   "outputs": [
    {
     "name": "stdout",
     "output_type": "stream",
     "text": [
      "A.__mro__ = (<class '__main__.A'>, <class 'list'>, <class 'object'>)\n",
      "\n",
      "type(list[int]) = <class 'types.GenericAlias'>\n",
      "isinstance(list[int], types.GenericAlias) = True\n",
      "isinstance(list[int], type) = True\n",
      "\n",
      "type(typing.List[int]) = <class 'typing._GenericAlias'>\n",
      "isinstance(typing.List[int], types.GenericAlias) = False\n",
      "isinstance(typing.List[int], type) = False\n"
     ]
    }
   ],
   "source": [
    "import types\n",
    "import typing\n",
    "\n",
    "list[int]() == list()\n",
    "\n",
    "class A(list[int]):\n",
    "    pass\n",
    "\n",
    "print(f\"{A.__mro__ = }\\n\")\n",
    "\n",
    "print(f\"{type(list[int]) = }\")\n",
    "print(f\"{isinstance(list[int], types.GenericAlias) = }\")\n",
    "print(f\"{isinstance(list[int], type) = }\\n\")\n",
    "\n",
    "print(f\"{type(typing.List[int]) = }\")\n",
    "print(f\"{isinstance(typing.List[int], types.GenericAlias) = }\")\n",
    "print(f\"{isinstance(typing.List[int], type) = }\")\n"
   ]
  },
  {
   "cell_type": "markdown",
   "id": "d9d6d803",
   "metadata": {
    "slideshow": {
     "slide_type": "slide"
    }
   },
   "source": [
    "## Bonus: stringized Python Annotations future?\n",
    "\n",
    "- Stringized Pythons were supposed to be standard behavior since 3.10\n",
    "    - `from __future__ import annotations` was introduced as a backport to use them from previous versions\n",
    "- Last minute before Python 3.10 was released, the decision was changed due to heavy complaints from creators of libraries heavily using annotations at run-time (e.g. `pydantic`)\n",
    "- Another proposal was born in the meantime to try to address all issues and it has been finally approved for python 3.13:\n",
    "    https://peps.python.org/pep-0649/\n"
   ]
  },
  {
   "cell_type": "code",
   "execution_count": null,
   "id": "e2e660fa",
   "metadata": {},
   "outputs": [],
   "source": []
  }
 ],
 "metadata": {
  "celltoolbar": "Slideshow",
  "kernelspec": {
   "display_name": "Python 3 (ipykernel)",
   "language": "python",
   "name": "python3"
  },
  "language_info": {
   "codemirror_mode": {
    "name": "ipython",
    "version": 3
   },
   "file_extension": ".py",
   "mimetype": "text/x-python",
   "name": "python",
   "nbconvert_exporter": "python",
   "pygments_lexer": "ipython3",
   "version": "3.10.6"
  }
 },
 "nbformat": 4,
 "nbformat_minor": 5
}
